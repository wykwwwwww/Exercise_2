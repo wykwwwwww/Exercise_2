{
 "cells": [
  {
   "cell_type": "markdown",
   "metadata": {},
   "source": [
    "1. Ask user to enter a string and check that it is made up only alphabets:"
   ]
  },
  {
   "cell_type": "code",
   "execution_count": 1,
   "metadata": {},
   "outputs": [
    {
     "name": "stdout",
     "output_type": "stream",
     "text": [
      "The string contains only letters.\n"
     ]
    }
   ],
   "source": [
    "user_input = input(\"Please enter a string:\")\n",
    "\n",
    "if user_input.isalpha():\n",
    "    print(\"The string contains only letters.\")\n",
    "else:\n",
    "    print(\"This string contains non-alphabetic characters.\")"
   ]
  },
  {
   "cell_type": "markdown",
   "metadata": {},
   "source": [
    "2. Now, make sure that the string is made up of both alphabets and numbers:\n",
    "\n",
    "TRY using isalnum() function and then entering only alhpabets in the string and see what happens."
   ]
  },
  {
   "cell_type": "code",
   "execution_count": 9,
   "metadata": {},
   "outputs": [
    {
     "name": "stdout",
     "output_type": "stream",
     "text": [
      " This string does not contain a combination of letters and numbers.\n"
     ]
    }
   ],
   "source": [
    "def contains_both_letters_and_digits(s):\n",
    "    has_letters = any(char.isalpha() for char in s)\n",
    "    has_digits = any(char.isdigit() for char in s)\n",
    "    return has_letters and has_digits\n",
    "\n",
    "user_input = input(\" Please enter a string: \")\n",
    "\n",
    "if contains_both_letters_and_digits(user_input):\n",
    "    print(\" This string contains letters and numbers.\" )\n",
    "else:\n",
    "    print(\" This string does not contain a combination of letters and numbers.\" )"
   ]
  },
  {
   "cell_type": "markdown",
   "metadata": {},
   "source": [
    "3. Now, make sure that the string is made up of both alphabets and at least one number:"
   ]
  },
  {
   "cell_type": "code",
   "execution_count": 18,
   "metadata": {},
   "outputs": [
    {
     "name": "stdout",
     "output_type": "stream",
     "text": [
      "The string contains letters and at least one number.\n"
     ]
    }
   ],
   "source": [
    "def contains_letters_and_at_least_one_digit(s):\n",
    "    has_letters = any(char.isalpha() for char in s)\n",
    "    has_digits = any(char.isdigit() for char in s)\n",
    "    return has_letters and has_digits\n",
    "\n",
    "user_input = input(\"Please enter a string:\")\n",
    "\n",
    "if contains_letters_and_at_least_one_digit(user_input):\n",
    "    print(\"The string contains letters and at least one number.\")\n",
    "else:\n",
    "    print(\"The string contains no letters and at least one number.\")\n"
   ]
  },
  {
   "cell_type": "markdown",
   "metadata": {},
   "source": [
    "4. Now, make sure that the string is made up of both alphabets, at least one number, and at least one special character:"
   ]
  },
  {
   "cell_type": "code",
   "execution_count": 20,
   "metadata": {},
   "outputs": [
    {
     "name": "stdout",
     "output_type": "stream",
     "text": [
      "The string contains letters, at least one number, and at least one special character.\n"
     ]
    }
   ],
   "source": [
    "import string\n",
    "\n",
    "def contains_letters_digits_and_special(s):\n",
    "    # Define the set of special characters\n",
    "    special_characters = set(string.punctuation)\n",
    "    \n",
    "    has_letters = any(char.isalpha() for char in s)\n",
    "    has_digits = any(char.isdigit() for char in s)\n",
    "    has_special = any(char in special_characters for char in s)\n",
    "    \n",
    "    return has_letters and has_digits and has_special\n",
    "\n",
    "user_input = input(\"Please enter a string:\")\n",
    "\n",
    "if contains_letters_digits_and_special(user_input):\n",
    "    print(\"The string contains letters, at least one number, and at least one special character.\")\n",
    "else:\n",
    "    print(\"The string does not meet requirements.\")\n"
   ]
  },
  {
   "cell_type": "markdown",
   "metadata": {},
   "source": [
    "5. Now, modify the above code so that if the user enters an invalid string, the program should ask the user to enter another string again, and keep asking until a valid string has been entered."
   ]
  },
  {
   "cell_type": "code",
   "execution_count": 22,
   "metadata": {},
   "outputs": [
    {
     "name": "stdout",
     "output_type": "stream",
     "text": [
      "The string does not meet requirements. Please re-enter it.\n",
      "The string does not meet requirements. Please re-enter it.\n",
      "The string contains letters, at least one number, and at least one special character.\n"
     ]
    }
   ],
   "source": [
    "import string\n",
    "\n",
    "def contains_letters_digits_and_special(s):\n",
    "    special_characters = set(string.punctuation)\n",
    "    \n",
    "    has_letters = any(char.isalpha() for char in s)\n",
    "    has_digits = any(char.isdigit() for char in s)\n",
    "    has_special = any(char in special_characters for char in s)\n",
    "    \n",
    "    return has_letters and has_digits and has_special\n",
    "\n",
    "while True:\n",
    "    user_input = input(\"Enter a string (containing letters, at least one number, and at least one special character) :\")\n",
    "\n",
    "    if contains_letters_digits_and_special(user_input):\n",
    "        print(\"The string contains letters, at least one number, and at least one special character.\")\n",
    "        break\n",
    "    else:\n",
    "        print(\"The string does not meet requirements. Please re-enter it.\")"
   ]
  }
 ],
 "metadata": {
  "kernelspec": {
   "display_name": "Python 3",
   "language": "python",
   "name": "python3"
  },
  "language_info": {
   "codemirror_mode": {
    "name": "ipython",
    "version": 3
   },
   "file_extension": ".py",
   "mimetype": "text/x-python",
   "name": "python",
   "nbconvert_exporter": "python",
   "pygments_lexer": "ipython3",
   "version": "3.9.13"
  }
 },
 "nbformat": 4,
 "nbformat_minor": 2
}
